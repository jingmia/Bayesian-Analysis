{
 "cells": [
  {
   "cell_type": "markdown",
   "metadata": {},
   "source": [
    "### Question 1"
   ]
  },
  {
   "cell_type": "markdown",
   "metadata": {},
   "source": [
    "#### Part 1"
   ]
  },
  {
   "cell_type": "code",
   "execution_count": 88,
   "metadata": {},
   "outputs": [],
   "source": [
    "import arviz as az\n",
    "import numpy as np\n",
    "import pymc as pm\n",
    "from pymc.math import switch, ge\n",
    "import pandas as pd"
   ]
  },
  {
   "cell_type": "code",
   "execution_count": null,
   "metadata": {},
   "outputs": [],
   "source": [
    "data = pd.read_csv(\"PONV.csv\")\n",
    "X = data[[\"Gender\", \"Anaesthesiaduration\", \"Smoking\", \"PONVhist\"]].to_numpy()\n",
    "X_aug = np.concatenate((np.ones((X.shape[0], 1)), X), axis=1)\n",
    "y = data[\"SinclairScore\"].to_numpy()"
   ]
  },
  {
   "cell_type": "code",
   "execution_count": 90,
   "metadata": {},
   "outputs": [
    {
     "name": "stderr",
     "output_type": "stream",
     "text": [
      "Auto-assigning NUTS sampler...\n",
      "Initializing NUTS using jitter+adapt_diag...\n",
      "Multiprocess sampling (4 chains in 4 jobs)\n",
      "NUTS: [beta, tau]\n"
     ]
    },
    {
     "data": {
      "application/vnd.jupyter.widget-view+json": {
       "model_id": "efed3dd1dcbb4ac0a433498f5971cf3d",
       "version_major": 2,
       "version_minor": 0
      },
      "text/plain": [
       "Output()"
      ]
     },
     "metadata": {},
     "output_type": "display_data"
    },
    {
     "data": {
      "text/html": [
       "<pre style=\"white-space:pre;overflow-x:auto;line-height:normal;font-family:Menlo,'DejaVu Sans Mono',consolas,'Courier New',monospace\"></pre>\n"
      ],
      "text/plain": []
     },
     "metadata": {},
     "output_type": "display_data"
    },
    {
     "name": "stderr",
     "output_type": "stream",
     "text": [
      "Sampling 4 chains for 1_000 tune and 5_000 draw iterations (4_000 + 20_000 draws total) took 44 seconds.\n",
      "Sampling: [likelihood]\n"
     ]
    },
    {
     "data": {
      "application/vnd.jupyter.widget-view+json": {
       "model_id": "8baa48cefbcb49ba93c12ebb125d2917",
       "version_major": 2,
       "version_minor": 0
      },
      "text/plain": [
       "Output()"
      ]
     },
     "metadata": {},
     "output_type": "display_data"
    },
    {
     "data": {
      "text/html": [
       "<pre style=\"white-space:pre;overflow-x:auto;line-height:normal;font-family:Menlo,'DejaVu Sans Mono',consolas,'Courier New',monospace\"></pre>\n"
      ],
      "text/plain": []
     },
     "metadata": {},
     "output_type": "display_data"
    }
   ],
   "source": [
    "with pm.Model() as m:\n",
    "    # Associate data with model\n",
    "    X_data = pm.Data(\"X\", X_aug)\n",
    "    y_data = pm.Data(\"y\", y)\n",
    "\n",
    "    # Priors\n",
    "    beta = pm.Normal(\"beta\", mu=0, sigma=1000, shape=X.shape[1] + 1)\n",
    "    tau = pm.Gamma(\"tau\", alpha=0.001, beta=0.001)  # Precision\n",
    "    sigma = pm.Deterministic(\"sigma\", 1 / pm.math.sqrt(tau))\n",
    "\n",
    "    mu = pm.math.dot(X_data, beta)\n",
    "\n",
    "    # Likelihood\n",
    "    pm.Normal(\"likelihood\", mu=mu, sigma=sigma, observed=y_data)\n",
    "\n",
    "    # Start sampling\n",
    "    trace = pm.sample(5000, target_accept=0.95)\n",
    "    ppc = pm.sample_posterior_predictive(trace, extend_inferencedata=True)"
   ]
  },
  {
   "cell_type": "code",
   "execution_count": 91,
   "metadata": {},
   "outputs": [
    {
     "data": {
      "text/html": [
       "<div>\n",
       "<style scoped>\n",
       "    .dataframe tbody tr th:only-of-type {\n",
       "        vertical-align: middle;\n",
       "    }\n",
       "\n",
       "    .dataframe tbody tr th {\n",
       "        vertical-align: top;\n",
       "    }\n",
       "\n",
       "    .dataframe thead th {\n",
       "        text-align: right;\n",
       "    }\n",
       "</style>\n",
       "<table border=\"1\" class=\"dataframe\">\n",
       "  <thead>\n",
       "    <tr style=\"text-align: right;\">\n",
       "      <th></th>\n",
       "      <th>mean</th>\n",
       "      <th>sd</th>\n",
       "      <th>hdi_2.5%</th>\n",
       "      <th>hdi_97.5%</th>\n",
       "      <th>mcse_mean</th>\n",
       "      <th>mcse_sd</th>\n",
       "      <th>ess_bulk</th>\n",
       "      <th>ess_tail</th>\n",
       "      <th>r_hat</th>\n",
       "    </tr>\n",
       "  </thead>\n",
       "  <tbody>\n",
       "    <tr>\n",
       "      <th>beta[0]</th>\n",
       "      <td>-0.067</td>\n",
       "      <td>0.010</td>\n",
       "      <td>-0.086</td>\n",
       "      <td>-0.046</td>\n",
       "      <td>0.000</td>\n",
       "      <td>0.000</td>\n",
       "      <td>13223.0</td>\n",
       "      <td>12740.0</td>\n",
       "      <td>1.0</td>\n",
       "    </tr>\n",
       "    <tr>\n",
       "      <th>beta[1]</th>\n",
       "      <td>0.096</td>\n",
       "      <td>0.007</td>\n",
       "      <td>0.084</td>\n",
       "      <td>0.109</td>\n",
       "      <td>0.000</td>\n",
       "      <td>0.000</td>\n",
       "      <td>16509.0</td>\n",
       "      <td>13586.0</td>\n",
       "      <td>1.0</td>\n",
       "    </tr>\n",
       "    <tr>\n",
       "      <th>beta[2]</th>\n",
       "      <td>0.002</td>\n",
       "      <td>0.000</td>\n",
       "      <td>0.002</td>\n",
       "      <td>0.002</td>\n",
       "      <td>0.000</td>\n",
       "      <td>0.000</td>\n",
       "      <td>16566.0</td>\n",
       "      <td>14256.0</td>\n",
       "      <td>1.0</td>\n",
       "    </tr>\n",
       "    <tr>\n",
       "      <th>beta[3]</th>\n",
       "      <td>0.004</td>\n",
       "      <td>0.005</td>\n",
       "      <td>-0.006</td>\n",
       "      <td>0.013</td>\n",
       "      <td>0.000</td>\n",
       "      <td>0.000</td>\n",
       "      <td>19529.0</td>\n",
       "      <td>14316.0</td>\n",
       "      <td>1.0</td>\n",
       "    </tr>\n",
       "    <tr>\n",
       "      <th>beta[4]</th>\n",
       "      <td>-0.030</td>\n",
       "      <td>0.005</td>\n",
       "      <td>-0.040</td>\n",
       "      <td>-0.019</td>\n",
       "      <td>0.000</td>\n",
       "      <td>0.000</td>\n",
       "      <td>19701.0</td>\n",
       "      <td>12957.0</td>\n",
       "      <td>1.0</td>\n",
       "    </tr>\n",
       "    <tr>\n",
       "      <th>tau</th>\n",
       "      <td>225.635</td>\n",
       "      <td>10.475</td>\n",
       "      <td>205.672</td>\n",
       "      <td>246.481</td>\n",
       "      <td>0.076</td>\n",
       "      <td>0.054</td>\n",
       "      <td>19021.0</td>\n",
       "      <td>12953.0</td>\n",
       "      <td>1.0</td>\n",
       "    </tr>\n",
       "    <tr>\n",
       "      <th>sigma</th>\n",
       "      <td>0.067</td>\n",
       "      <td>0.002</td>\n",
       "      <td>0.064</td>\n",
       "      <td>0.070</td>\n",
       "      <td>0.000</td>\n",
       "      <td>0.000</td>\n",
       "      <td>19021.0</td>\n",
       "      <td>12953.0</td>\n",
       "      <td>1.0</td>\n",
       "    </tr>\n",
       "  </tbody>\n",
       "</table>\n",
       "</div>"
      ],
      "text/plain": [
       "            mean      sd  hdi_2.5%  hdi_97.5%  mcse_mean  mcse_sd  ess_bulk  \\\n",
       "beta[0]   -0.067   0.010    -0.086     -0.046      0.000    0.000   13223.0   \n",
       "beta[1]    0.096   0.007     0.084      0.109      0.000    0.000   16509.0   \n",
       "beta[2]    0.002   0.000     0.002      0.002      0.000    0.000   16566.0   \n",
       "beta[3]    0.004   0.005    -0.006      0.013      0.000    0.000   19529.0   \n",
       "beta[4]   -0.030   0.005    -0.040     -0.019      0.000    0.000   19701.0   \n",
       "tau      225.635  10.475   205.672    246.481      0.076    0.054   19021.0   \n",
       "sigma      0.067   0.002     0.064      0.070      0.000    0.000   19021.0   \n",
       "\n",
       "         ess_tail  r_hat  \n",
       "beta[0]   12740.0    1.0  \n",
       "beta[1]   13586.0    1.0  \n",
       "beta[2]   14256.0    1.0  \n",
       "beta[3]   14316.0    1.0  \n",
       "beta[4]   12957.0    1.0  \n",
       "tau       12953.0    1.0  \n",
       "sigma     12953.0    1.0  "
      ]
     },
     "execution_count": 91,
     "metadata": {},
     "output_type": "execute_result"
    }
   ],
   "source": [
    "az.summary(trace, hdi_prob=0.95)"
   ]
  },
  {
   "cell_type": "markdown",
   "metadata": {},
   "source": [
    "#### Part 2"
   ]
  },
  {
   "cell_type": "code",
   "execution_count": 92,
   "metadata": {},
   "outputs": [
    {
     "name": "stderr",
     "output_type": "stream",
     "text": [
      "Sampling: [likelihood]\n"
     ]
    },
    {
     "data": {
      "application/vnd.jupyter.widget-view+json": {
       "model_id": "a42f5bda4ae94930a23bb8706a9a13ce",
       "version_major": 2,
       "version_minor": 0
      },
      "text/plain": [
       "Output()"
      ]
     },
     "metadata": {},
     "output_type": "display_data"
    },
    {
     "data": {
      "text/html": [
       "<pre style=\"white-space:pre;overflow-x:auto;line-height:normal;font-family:Menlo,'DejaVu Sans Mono',consolas,'Courier New',monospace\"></pre>\n"
      ],
      "text/plain": []
     },
     "metadata": {},
     "output_type": "display_data"
    }
   ],
   "source": [
    "# Code is based on Unit 6.8 Prediction\n",
    "# Single prediction on out-of-sample data\n",
    "new_ob = np.array([[1, 1, 55, 0, 1]])\n",
    "pm.set_data({\"X\": new_ob}, model=m)\n",
    "ppc_new = pm.sample_posterior_predictive(trace, model=m, predictions=True)"
   ]
  },
  {
   "cell_type": "code",
   "execution_count": 93,
   "metadata": {},
   "outputs": [
    {
     "data": {
      "text/plain": [
       "mean             0.119989\n",
       "sd               0.066918\n",
       "hdi_2.5%        -0.010727\n",
       "hdi_97.5%        0.250978\n",
       "mcse_mean        0.000000\n",
       "mcse_sd          0.000000\n",
       "ess_bulk     19819.669214\n",
       "ess_tail     19577.520742\n",
       "r_hat            1.000000\n",
       "dtype: float64"
      ]
     },
     "execution_count": 93,
     "metadata": {},
     "output_type": "execute_result"
    }
   ],
   "source": [
    "az.summary(ppc_new.predictions, hdi_prob=0.95).mean()"
   ]
  },
  {
   "cell_type": "markdown",
   "metadata": {},
   "source": [
    "#### Part 3"
   ]
  },
  {
   "cell_type": "code",
   "execution_count": 94,
   "metadata": {},
   "outputs": [
    {
     "data": {
      "text/plain": [
       "r2        0.485581\n",
       "r2_std    0.014191\n",
       "dtype: float64"
      ]
     },
     "execution_count": 94,
     "metadata": {},
     "output_type": "execute_result"
    }
   ],
   "source": [
    "y_pred = ppc.posterior_predictive.stack(sample=(\"chain\", \"draw\"))[\"likelihood\"].values.T\n",
    "az.r2_score(y, y_pred)"
   ]
  },
  {
   "cell_type": "markdown",
   "metadata": {},
   "source": [
    "### Question 2"
   ]
  },
  {
   "cell_type": "markdown",
   "metadata": {},
   "source": [
    "#### Part 1"
   ]
  },
  {
   "cell_type": "code",
   "execution_count": 95,
   "metadata": {},
   "outputs": [],
   "source": [
    "# Create dictionary with \"Lemon yellow\" = 1, \"White\" = 2, \"Green\" = 3, and \"Blue\" = 4\n",
    "data = {\n",
    "    1: [45, 59, 48, 46, 38, 47],\n",
    "    2: [21, 12, 14, 17, 13, 17],\n",
    "    3: [16, 11, 20, 21, 14, 7],\n",
    "    4: [37, 32, 15, 25, 39, 41],\n",
    "}"
   ]
  },
  {
   "cell_type": "code",
   "execution_count": 96,
   "metadata": {},
   "outputs": [
    {
     "name": "stderr",
     "output_type": "stream",
     "text": [
      "Auto-assigning NUTS sampler...\n",
      "Initializing NUTS using jitter+adapt_diag...\n",
      "Multiprocess sampling (4 chains in 4 jobs)\n",
      "NUTS: [mu0, sigma, alpha4, alpha3, alpha2]\n"
     ]
    },
    {
     "data": {
      "application/vnd.jupyter.widget-view+json": {
       "model_id": "832c46bd2dc64994a6eeff8dbc113a77",
       "version_major": 2,
       "version_minor": 0
      },
      "text/plain": [
       "Output()"
      ]
     },
     "metadata": {},
     "output_type": "display_data"
    },
    {
     "data": {
      "text/html": [
       "<pre style=\"white-space:pre;overflow-x:auto;line-height:normal;font-family:Menlo,'DejaVu Sans Mono',consolas,'Courier New',monospace\"></pre>\n"
      ],
      "text/plain": []
     },
     "metadata": {},
     "output_type": "display_data"
    },
    {
     "name": "stderr",
     "output_type": "stream",
     "text": [
      "Sampling 4 chains for 1_000 tune and 5_000 draw iterations (4_000 + 20_000 draws total) took 27 seconds.\n"
     ]
    }
   ],
   "source": [
    "# The following code is adapted based on Aaron Reding's OH on 10/30/24\n",
    "with pm.Model() as m:\n",
    "    mu0 = pm.Normal(\"mu0\", mu=0, sigma=10)\n",
    "    sigma = pm.InverseGamma(\"sigma\", 0.1, 0.1)\n",
    "\n",
    "    alpha4 = pm.Normal(\"alpha4\", mu=0, sigma=10)\n",
    "    alpha3 = pm.Normal(\"alpha3\", mu=0, sigma=10)\n",
    "    alpha2 = pm.Normal(\"alpha2\", mu=0, sigma=10)\n",
    "    # Sum-to-zero constraint\n",
    "    alpha1 = pm.Deterministic(\"alpha1\", -(alpha2 + alpha3 + alpha4))\n",
    "\n",
    "    mu1 = mu0 + alpha1\n",
    "    mu2 = mu0 + alpha2\n",
    "    mu3 = mu0 + alpha3\n",
    "    mu4 = mu0 + alpha4\n",
    "\n",
    "    pm.Normal(\"likelihood1\", mu=mu1, sigma=sigma, observed=data[1])\n",
    "    pm.Normal(\"likelihood2\", mu=mu2, sigma=sigma, observed=data[2])\n",
    "    pm.Normal(\"likelihood3\", mu=mu3, sigma=sigma, observed=data[3])\n",
    "    pm.Normal(\"likelihood4\", mu=mu4, sigma=sigma, observed=data[4])\n",
    "\n",
    "    onetwo = pm.Deterministic(\"alpha1 - alpha2\", alpha1 - alpha2)\n",
    "    onethree = pm.Deterministic(\"alpha1 - alpha3\", alpha1 - alpha3)\n",
    "    onefour = pm.Deterministic(\"alpha1 - alpha4\", alpha1 - alpha4)\n",
    "    twothree = pm.Deterministic(\"alpha2 - alpha3\", alpha2 - alpha3)\n",
    "    twofour = pm.Deterministic(\"alpha2 - alpha4\", alpha2 - alpha4)\n",
    "    threefour = pm.Deterministic(\"alpha3 - alpha4\", alpha3 - alpha4)\n",
    "\n",
    "    trace = pm.sample(5000)"
   ]
  },
  {
   "cell_type": "code",
   "execution_count": 97,
   "metadata": {},
   "outputs": [
    {
     "data": {
      "text/html": [
       "<div>\n",
       "<style scoped>\n",
       "    .dataframe tbody tr th:only-of-type {\n",
       "        vertical-align: middle;\n",
       "    }\n",
       "\n",
       "    .dataframe tbody tr th {\n",
       "        vertical-align: top;\n",
       "    }\n",
       "\n",
       "    .dataframe thead th {\n",
       "        text-align: right;\n",
       "    }\n",
       "</style>\n",
       "<table border=\"1\" class=\"dataframe\">\n",
       "  <thead>\n",
       "    <tr style=\"text-align: right;\">\n",
       "      <th></th>\n",
       "      <th>mean</th>\n",
       "      <th>sd</th>\n",
       "      <th>hdi_2.5%</th>\n",
       "      <th>hdi_97.5%</th>\n",
       "      <th>mcse_mean</th>\n",
       "      <th>mcse_sd</th>\n",
       "      <th>ess_bulk</th>\n",
       "      <th>ess_tail</th>\n",
       "      <th>r_hat</th>\n",
       "    </tr>\n",
       "  </thead>\n",
       "  <tbody>\n",
       "    <tr>\n",
       "      <th>mu0</th>\n",
       "      <td>26.717</td>\n",
       "      <td>1.461</td>\n",
       "      <td>23.834</td>\n",
       "      <td>29.560</td>\n",
       "      <td>0.011</td>\n",
       "      <td>0.008</td>\n",
       "      <td>18496.0</td>\n",
       "      <td>12810.0</td>\n",
       "      <td>1.0</td>\n",
       "    </tr>\n",
       "    <tr>\n",
       "      <th>alpha4</th>\n",
       "      <td>3.477</td>\n",
       "      <td>2.434</td>\n",
       "      <td>-1.389</td>\n",
       "      <td>8.336</td>\n",
       "      <td>0.017</td>\n",
       "      <td>0.013</td>\n",
       "      <td>19572.0</td>\n",
       "      <td>13765.0</td>\n",
       "      <td>1.0</td>\n",
       "    </tr>\n",
       "    <tr>\n",
       "      <th>alpha3</th>\n",
       "      <td>-11.866</td>\n",
       "      <td>2.409</td>\n",
       "      <td>-16.519</td>\n",
       "      <td>-6.946</td>\n",
       "      <td>0.018</td>\n",
       "      <td>0.013</td>\n",
       "      <td>18066.0</td>\n",
       "      <td>14154.0</td>\n",
       "      <td>1.0</td>\n",
       "    </tr>\n",
       "    <tr>\n",
       "      <th>alpha2</th>\n",
       "      <td>-11.090</td>\n",
       "      <td>2.422</td>\n",
       "      <td>-15.743</td>\n",
       "      <td>-6.140</td>\n",
       "      <td>0.018</td>\n",
       "      <td>0.012</td>\n",
       "      <td>19037.0</td>\n",
       "      <td>13575.0</td>\n",
       "      <td>1.0</td>\n",
       "    </tr>\n",
       "    <tr>\n",
       "      <th>sigma</th>\n",
       "      <td>7.049</td>\n",
       "      <td>1.171</td>\n",
       "      <td>5.016</td>\n",
       "      <td>9.439</td>\n",
       "      <td>0.010</td>\n",
       "      <td>0.007</td>\n",
       "      <td>13887.0</td>\n",
       "      <td>13287.0</td>\n",
       "      <td>1.0</td>\n",
       "    </tr>\n",
       "    <tr>\n",
       "      <th>alpha1</th>\n",
       "      <td>19.478</td>\n",
       "      <td>2.493</td>\n",
       "      <td>14.324</td>\n",
       "      <td>24.131</td>\n",
       "      <td>0.015</td>\n",
       "      <td>0.011</td>\n",
       "      <td>26682.0</td>\n",
       "      <td>15925.0</td>\n",
       "      <td>1.0</td>\n",
       "    </tr>\n",
       "    <tr>\n",
       "      <th>alpha1 - alpha2</th>\n",
       "      <td>30.568</td>\n",
       "      <td>4.055</td>\n",
       "      <td>22.646</td>\n",
       "      <td>38.652</td>\n",
       "      <td>0.027</td>\n",
       "      <td>0.019</td>\n",
       "      <td>22673.0</td>\n",
       "      <td>17468.0</td>\n",
       "      <td>1.0</td>\n",
       "    </tr>\n",
       "    <tr>\n",
       "      <th>alpha1 - alpha3</th>\n",
       "      <td>31.344</td>\n",
       "      <td>4.007</td>\n",
       "      <td>23.271</td>\n",
       "      <td>39.173</td>\n",
       "      <td>0.027</td>\n",
       "      <td>0.019</td>\n",
       "      <td>22438.0</td>\n",
       "      <td>16398.0</td>\n",
       "      <td>1.0</td>\n",
       "    </tr>\n",
       "    <tr>\n",
       "      <th>alpha1 - alpha4</th>\n",
       "      <td>16.001</td>\n",
       "      <td>4.022</td>\n",
       "      <td>7.893</td>\n",
       "      <td>23.852</td>\n",
       "      <td>0.026</td>\n",
       "      <td>0.018</td>\n",
       "      <td>24783.0</td>\n",
       "      <td>17313.0</td>\n",
       "      <td>1.0</td>\n",
       "    </tr>\n",
       "    <tr>\n",
       "      <th>alpha2 - alpha3</th>\n",
       "      <td>0.776</td>\n",
       "      <td>3.902</td>\n",
       "      <td>-7.177</td>\n",
       "      <td>8.200</td>\n",
       "      <td>0.029</td>\n",
       "      <td>0.029</td>\n",
       "      <td>17764.0</td>\n",
       "      <td>13466.0</td>\n",
       "      <td>1.0</td>\n",
       "    </tr>\n",
       "    <tr>\n",
       "      <th>alpha2 - alpha4</th>\n",
       "      <td>-14.567</td>\n",
       "      <td>3.950</td>\n",
       "      <td>-22.258</td>\n",
       "      <td>-6.587</td>\n",
       "      <td>0.029</td>\n",
       "      <td>0.021</td>\n",
       "      <td>18684.0</td>\n",
       "      <td>12734.0</td>\n",
       "      <td>1.0</td>\n",
       "    </tr>\n",
       "    <tr>\n",
       "      <th>alpha3 - alpha4</th>\n",
       "      <td>-15.344</td>\n",
       "      <td>3.966</td>\n",
       "      <td>-23.008</td>\n",
       "      <td>-7.415</td>\n",
       "      <td>0.030</td>\n",
       "      <td>0.021</td>\n",
       "      <td>17705.0</td>\n",
       "      <td>14024.0</td>\n",
       "      <td>1.0</td>\n",
       "    </tr>\n",
       "  </tbody>\n",
       "</table>\n",
       "</div>"
      ],
      "text/plain": [
       "                   mean     sd  hdi_2.5%  hdi_97.5%  mcse_mean  mcse_sd  \\\n",
       "mu0              26.717  1.461    23.834     29.560      0.011    0.008   \n",
       "alpha4            3.477  2.434    -1.389      8.336      0.017    0.013   \n",
       "alpha3          -11.866  2.409   -16.519     -6.946      0.018    0.013   \n",
       "alpha2          -11.090  2.422   -15.743     -6.140      0.018    0.012   \n",
       "sigma             7.049  1.171     5.016      9.439      0.010    0.007   \n",
       "alpha1           19.478  2.493    14.324     24.131      0.015    0.011   \n",
       "alpha1 - alpha2  30.568  4.055    22.646     38.652      0.027    0.019   \n",
       "alpha1 - alpha3  31.344  4.007    23.271     39.173      0.027    0.019   \n",
       "alpha1 - alpha4  16.001  4.022     7.893     23.852      0.026    0.018   \n",
       "alpha2 - alpha3   0.776  3.902    -7.177      8.200      0.029    0.029   \n",
       "alpha2 - alpha4 -14.567  3.950   -22.258     -6.587      0.029    0.021   \n",
       "alpha3 - alpha4 -15.344  3.966   -23.008     -7.415      0.030    0.021   \n",
       "\n",
       "                 ess_bulk  ess_tail  r_hat  \n",
       "mu0               18496.0   12810.0    1.0  \n",
       "alpha4            19572.0   13765.0    1.0  \n",
       "alpha3            18066.0   14154.0    1.0  \n",
       "alpha2            19037.0   13575.0    1.0  \n",
       "sigma             13887.0   13287.0    1.0  \n",
       "alpha1            26682.0   15925.0    1.0  \n",
       "alpha1 - alpha2   22673.0   17468.0    1.0  \n",
       "alpha1 - alpha3   22438.0   16398.0    1.0  \n",
       "alpha1 - alpha4   24783.0   17313.0    1.0  \n",
       "alpha2 - alpha3   17764.0   13466.0    1.0  \n",
       "alpha2 - alpha4   18684.0   12734.0    1.0  \n",
       "alpha3 - alpha4   17705.0   14024.0    1.0  "
      ]
     },
     "execution_count": 97,
     "metadata": {},
     "output_type": "execute_result"
    }
   ],
   "source": [
    "az.summary(trace, hdi_prob=0.95)"
   ]
  },
  {
   "cell_type": "markdown",
   "metadata": {},
   "source": [
    "#### Part 2\n",
    "Please see the accompanying report for the conclusions based on the output above."
   ]
  },
  {
   "cell_type": "markdown",
   "metadata": {},
   "source": [
    "### Question 3"
   ]
  },
  {
   "cell_type": "markdown",
   "metadata": {},
   "source": [
    "#### Part 1"
   ]
  },
  {
   "cell_type": "code",
   "execution_count": 98,
   "metadata": {},
   "outputs": [],
   "source": [
    "import statsmodels.api as sm\n",
    "import statsmodels.formula.api as smf\n",
    "from sklearn.preprocessing import LabelEncoder\n",
    "from sklearn.linear_model import LogisticRegression\n",
    "from sklearn.utils import resample"
   ]
  },
  {
   "cell_type": "markdown",
   "metadata": {},
   "source": [
    "#### Frequentist Logistic Regression Method #1"
   ]
  },
  {
   "cell_type": "code",
   "execution_count": 99,
   "metadata": {},
   "outputs": [],
   "source": [
    "data_df = pd.read_csv(\"iris-1.csv\")\n",
    "data_df = data_df.rename(\n",
    "    columns={\n",
    "        \"Sepal.Length\": \"Sepal_Length\",\n",
    "        \"Sepal.Width\": \"Sepal_Width\",\n",
    "        \"Petal.Length\": \"Petal_Length\",\n",
    "        \"Petal.Width\": \"Petal_Width\",\n",
    "    }\n",
    ")"
   ]
  },
  {
   "cell_type": "code",
   "execution_count": 100,
   "metadata": {},
   "outputs": [
    {
     "data": {
      "text/plain": [
       "{'setosa': 0, 'versicolor': 1}"
      ]
     },
     "execution_count": 100,
     "metadata": {},
     "output_type": "execute_result"
    }
   ],
   "source": [
    "# Convert Species into 0 and 1\n",
    "le = LabelEncoder()\n",
    "data_df[\"Species\"] = le.fit_transform(data_df[\"Species\"])\n",
    "le_name_mapping = dict(zip(le.classes_, le.transform(le.classes_)))\n",
    "le_name_mapping"
   ]
  },
  {
   "cell_type": "code",
   "execution_count": 101,
   "metadata": {},
   "outputs": [
    {
     "data": {
      "text/html": [
       "<div>\n",
       "<style scoped>\n",
       "    .dataframe tbody tr th:only-of-type {\n",
       "        vertical-align: middle;\n",
       "    }\n",
       "\n",
       "    .dataframe tbody tr th {\n",
       "        vertical-align: top;\n",
       "    }\n",
       "\n",
       "    .dataframe thead th {\n",
       "        text-align: right;\n",
       "    }\n",
       "</style>\n",
       "<table border=\"1\" class=\"dataframe\">\n",
       "  <thead>\n",
       "    <tr style=\"text-align: right;\">\n",
       "      <th></th>\n",
       "      <th>Sepal_Length</th>\n",
       "      <th>Sepal_Width</th>\n",
       "      <th>Petal_Length</th>\n",
       "      <th>Petal_Width</th>\n",
       "      <th>Species</th>\n",
       "    </tr>\n",
       "  </thead>\n",
       "  <tbody>\n",
       "    <tr>\n",
       "      <th>0</th>\n",
       "      <td>5.1</td>\n",
       "      <td>3.5</td>\n",
       "      <td>1.4</td>\n",
       "      <td>0.2</td>\n",
       "      <td>0</td>\n",
       "    </tr>\n",
       "    <tr>\n",
       "      <th>1</th>\n",
       "      <td>4.9</td>\n",
       "      <td>3.0</td>\n",
       "      <td>1.4</td>\n",
       "      <td>0.2</td>\n",
       "      <td>0</td>\n",
       "    </tr>\n",
       "    <tr>\n",
       "      <th>2</th>\n",
       "      <td>4.7</td>\n",
       "      <td>3.2</td>\n",
       "      <td>1.3</td>\n",
       "      <td>0.2</td>\n",
       "      <td>0</td>\n",
       "    </tr>\n",
       "    <tr>\n",
       "      <th>3</th>\n",
       "      <td>4.6</td>\n",
       "      <td>3.1</td>\n",
       "      <td>1.5</td>\n",
       "      <td>0.2</td>\n",
       "      <td>0</td>\n",
       "    </tr>\n",
       "    <tr>\n",
       "      <th>4</th>\n",
       "      <td>5.0</td>\n",
       "      <td>3.6</td>\n",
       "      <td>1.4</td>\n",
       "      <td>0.2</td>\n",
       "      <td>0</td>\n",
       "    </tr>\n",
       "  </tbody>\n",
       "</table>\n",
       "</div>"
      ],
      "text/plain": [
       "   Sepal_Length  Sepal_Width  Petal_Length  Petal_Width  Species\n",
       "0           5.1          3.5           1.4          0.2        0\n",
       "1           4.9          3.0           1.4          0.2        0\n",
       "2           4.7          3.2           1.3          0.2        0\n",
       "3           4.6          3.1           1.5          0.2        0\n",
       "4           5.0          3.6           1.4          0.2        0"
      ]
     },
     "execution_count": 101,
     "metadata": {},
     "output_type": "execute_result"
    }
   ],
   "source": [
    "data_df.head()"
   ]
  },
  {
   "cell_type": "code",
   "execution_count": 102,
   "metadata": {},
   "outputs": [
    {
     "name": "stdout",
     "output_type": "stream",
     "text": [
      "Warning: Maximum number of iterations has been exceeded.\n",
      "         Current function value: 0.000000\n",
      "         Iterations: 35\n"
     ]
    },
    {
     "name": "stderr",
     "output_type": "stream",
     "text": [
      "c:\\Users\\jm121\\Bayes\\Lib\\site-packages\\statsmodels\\discrete\\discrete_model.py:227: PerfectSeparationWarning: Perfect separation or prediction detected, parameter may not be identified\n",
      "  warnings.warn(msg, category=PerfectSeparationWarning)\n",
      "c:\\Users\\jm121\\Bayes\\Lib\\site-packages\\statsmodels\\base\\model.py:607: ConvergenceWarning: Maximum Likelihood optimization failed to converge. Check mle_retvals\n",
      "  warnings.warn(\"Maximum Likelihood optimization failed to \"\n"
     ]
    },
    {
     "data": {
      "text/html": [
       "<table class=\"simpletable\">\n",
       "<caption>Logit Regression Results</caption>\n",
       "<tr>\n",
       "  <th>Dep. Variable:</th>        <td>Species</td>     <th>  No. Observations:  </th>   <td>   100</td>   \n",
       "</tr>\n",
       "<tr>\n",
       "  <th>Model:</th>                 <td>Logit</td>      <th>  Df Residuals:      </th>   <td>    95</td>   \n",
       "</tr>\n",
       "<tr>\n",
       "  <th>Method:</th>                 <td>MLE</td>       <th>  Df Model:          </th>   <td>     4</td>   \n",
       "</tr>\n",
       "<tr>\n",
       "  <th>Date:</th>            <td>Sun, 03 Nov 2024</td> <th>  Pseudo R-squ.:     </th>   <td> 1.000</td>   \n",
       "</tr>\n",
       "<tr>\n",
       "  <th>Time:</th>                <td>15:27:36</td>     <th>  Log-Likelihood:    </th> <td>-8.9814e-06</td>\n",
       "</tr>\n",
       "<tr>\n",
       "  <th>converged:</th>             <td>False</td>      <th>  LL-Null:           </th>  <td> -69.315</td>  \n",
       "</tr>\n",
       "<tr>\n",
       "  <th>Covariance Type:</th>     <td>nonrobust</td>    <th>  LLR p-value:       </th>  <td>5.547e-29</td> \n",
       "</tr>\n",
       "</table>\n",
       "<table class=\"simpletable\">\n",
       "<tr>\n",
       "        <td></td>          <th>coef</th>     <th>std err</th>      <th>z</th>      <th>P>|z|</th>  <th>[0.025</th>    <th>0.975]</th>  \n",
       "</tr>\n",
       "<tr>\n",
       "  <th>Intercept</th>    <td>    9.6813</td> <td>  1.2e+04</td> <td>    0.001</td> <td> 0.999</td> <td>-2.35e+04</td> <td> 2.35e+04</td>\n",
       "</tr>\n",
       "<tr>\n",
       "  <th>Sepal_Length</th> <td>   -4.1173</td> <td> 3316.583</td> <td>   -0.001</td> <td> 0.999</td> <td>-6504.500</td> <td> 6496.265</td>\n",
       "</tr>\n",
       "<tr>\n",
       "  <th>Sepal_Width</th>  <td>   -8.9814</td> <td> 1815.027</td> <td>   -0.005</td> <td> 0.996</td> <td>-3566.370</td> <td> 3548.407</td>\n",
       "</tr>\n",
       "<tr>\n",
       "  <th>Petal_Length</th> <td>    4.4103</td> <td> 1631.257</td> <td>    0.003</td> <td> 0.998</td> <td>-3192.795</td> <td> 3201.615</td>\n",
       "</tr>\n",
       "<tr>\n",
       "  <th>Petal_Width</th>  <td>   33.8138</td> <td> 5245.781</td> <td>    0.006</td> <td> 0.995</td> <td>-1.02e+04</td> <td> 1.03e+04</td>\n",
       "</tr>\n",
       "</table><br/><br/>Complete Separation: The results show that there iscomplete separation or perfect prediction.<br/>In this case the Maximum Likelihood Estimator does not exist and the parameters<br/>are not identified."
      ],
      "text/latex": [
       "\\begin{center}\n",
       "\\begin{tabular}{lclc}\n",
       "\\toprule\n",
       "\\textbf{Dep. Variable:}   &     Species      & \\textbf{  No. Observations:  } &       100    \\\\\n",
       "\\textbf{Model:}           &      Logit       & \\textbf{  Df Residuals:      } &        95    \\\\\n",
       "\\textbf{Method:}          &       MLE        & \\textbf{  Df Model:          } &         4    \\\\\n",
       "\\textbf{Date:}            & Sun, 03 Nov 2024 & \\textbf{  Pseudo R-squ.:     } &     1.000    \\\\\n",
       "\\textbf{Time:}            &     15:27:36     & \\textbf{  Log-Likelihood:    } & -8.9814e-06  \\\\\n",
       "\\textbf{converged:}       &      False       & \\textbf{  LL-Null:           } &    -69.315   \\\\\n",
       "\\textbf{Covariance Type:} &    nonrobust     & \\textbf{  LLR p-value:       } &  5.547e-29   \\\\\n",
       "\\bottomrule\n",
       "\\end{tabular}\n",
       "\\begin{tabular}{lcccccc}\n",
       "                       & \\textbf{coef} & \\textbf{std err} & \\textbf{z} & \\textbf{P$> |$z$|$} & \\textbf{[0.025} & \\textbf{0.975]}  \\\\\n",
       "\\midrule\n",
       "\\textbf{Intercept}     &       9.6813  &      1.2e+04     &     0.001  &         0.999        &    -2.35e+04    &     2.35e+04     \\\\\n",
       "\\textbf{Sepal\\_Length} &      -4.1173  &     3316.583     &    -0.001  &         0.999        &    -6504.500    &     6496.265     \\\\\n",
       "\\textbf{Sepal\\_Width}  &      -8.9814  &     1815.027     &    -0.005  &         0.996        &    -3566.370    &     3548.407     \\\\\n",
       "\\textbf{Petal\\_Length} &       4.4103  &     1631.257     &     0.003  &         0.998        &    -3192.795    &     3201.615     \\\\\n",
       "\\textbf{Petal\\_Width}  &      33.8138  &     5245.781     &     0.006  &         0.995        &    -1.02e+04    &     1.03e+04     \\\\\n",
       "\\bottomrule\n",
       "\\end{tabular}\n",
       "%\\caption{Logit Regression Results}\n",
       "\\end{center}\n",
       "\n",
       "Complete Separation: The results show that there iscomplete separation or perfect prediction. \\newline\n",
       " In this case the Maximum Likelihood Estimator does not exist and the parameters \\newline\n",
       " are not identified."
      ],
      "text/plain": [
       "<class 'statsmodels.iolib.summary.Summary'>\n",
       "\"\"\"\n",
       "                           Logit Regression Results                           \n",
       "==============================================================================\n",
       "Dep. Variable:                Species   No. Observations:                  100\n",
       "Model:                          Logit   Df Residuals:                       95\n",
       "Method:                           MLE   Df Model:                            4\n",
       "Date:                Sun, 03 Nov 2024   Pseudo R-squ.:                   1.000\n",
       "Time:                        15:27:36   Log-Likelihood:            -8.9814e-06\n",
       "converged:                      False   LL-Null:                       -69.315\n",
       "Covariance Type:            nonrobust   LLR p-value:                 5.547e-29\n",
       "================================================================================\n",
       "                   coef    std err          z      P>|z|      [0.025      0.975]\n",
       "--------------------------------------------------------------------------------\n",
       "Intercept        9.6813    1.2e+04      0.001      0.999   -2.35e+04    2.35e+04\n",
       "Sepal_Length    -4.1173   3316.583     -0.001      0.999   -6504.500    6496.265\n",
       "Sepal_Width     -8.9814   1815.027     -0.005      0.996   -3566.370    3548.407\n",
       "Petal_Length     4.4103   1631.257      0.003      0.998   -3192.795    3201.615\n",
       "Petal_Width     33.8138   5245.781      0.006      0.995   -1.02e+04    1.03e+04\n",
       "================================================================================\n",
       "\n",
       "Complete Separation: The results show that there iscomplete separation or perfect prediction.\n",
       "In this case the Maximum Likelihood Estimator does not exist and the parameters\n",
       "are not identified.\n",
       "\"\"\""
      ]
     },
     "execution_count": 102,
     "metadata": {},
     "output_type": "execute_result"
    }
   ],
   "source": [
    "x = data_df.iloc[:, :4]\n",
    "formula = \"Species ~ \" + \"+\".join(x.columns)\n",
    "logit_v1 = smf.logit(formula=formula, data=data_df).fit()\n",
    "logit_v1.summary()"
   ]
  },
  {
   "cell_type": "markdown",
   "metadata": {},
   "source": [
    "#### Frequentist Logistic Regression Method #2 w/ L1 Regularization"
   ]
  },
  {
   "cell_type": "code",
   "execution_count": 103,
   "metadata": {},
   "outputs": [
    {
     "name": "stdout",
     "output_type": "stream",
     "text": [
      "Optimization terminated successfully    (Exit mode 0)\n",
      "            Current function value: 9.602598429097631e-11\n",
      "            Iterations: 34\n",
      "            Function evaluations: 35\n",
      "            Gradient evaluations: 34\n"
     ]
    },
    {
     "data": {
      "text/html": [
       "<table class=\"simpletable\">\n",
       "<caption>Logit Regression Results</caption>\n",
       "<tr>\n",
       "  <th>Dep. Variable:</th>        <td>Species</td>     <th>  No. Observations:  </th>   <td>   100</td>   \n",
       "</tr>\n",
       "<tr>\n",
       "  <th>Model:</th>                 <td>Logit</td>      <th>  Df Residuals:      </th>   <td>    95</td>   \n",
       "</tr>\n",
       "<tr>\n",
       "  <th>Method:</th>                 <td>MLE</td>       <th>  Df Model:          </th>   <td>     4</td>   \n",
       "</tr>\n",
       "<tr>\n",
       "  <th>Date:</th>            <td>Sun, 03 Nov 2024</td> <th>  Pseudo R-squ.:     </th>   <td> 1.000</td>   \n",
       "</tr>\n",
       "<tr>\n",
       "  <th>Time:</th>                <td>15:27:36</td>     <th>  Log-Likelihood:    </th> <td>-9.6026e-09</td>\n",
       "</tr>\n",
       "<tr>\n",
       "  <th>converged:</th>             <td>True</td>       <th>  LL-Null:           </th>  <td> -69.315</td>  \n",
       "</tr>\n",
       "<tr>\n",
       "  <th>Covariance Type:</th>     <td>nonrobust</td>    <th>  LLR p-value:       </th>  <td>5.547e-29</td> \n",
       "</tr>\n",
       "</table>\n",
       "<table class=\"simpletable\">\n",
       "<tr>\n",
       "        <td></td>          <th>coef</th>     <th>std err</th>      <th>z</th>      <th>P>|z|</th>  <th>[0.025</th>    <th>0.975]</th>  \n",
       "</tr>\n",
       "<tr>\n",
       "  <th>Intercept</th>    <td>   -1.9979</td> <td> 9.39e+06</td> <td>-2.13e-07</td> <td> 1.000</td> <td>-1.84e+07</td> <td> 1.84e+07</td>\n",
       "</tr>\n",
       "<tr>\n",
       "  <th>Sepal_Length</th> <td>   -8.2904</td> <td> 3.78e+06</td> <td>-2.19e-06</td> <td> 1.000</td> <td>-7.42e+06</td> <td> 7.42e+06</td>\n",
       "</tr>\n",
       "<tr>\n",
       "  <th>Sepal_Width</th>  <td>  -14.3042</td> <td> 7.15e+06</td> <td>   -2e-06</td> <td> 1.000</td> <td> -1.4e+07</td> <td>  1.4e+07</td>\n",
       "</tr>\n",
       "<tr>\n",
       "  <th>Petal_Length</th> <td>   28.5257</td> <td> 2.95e+06</td> <td> 9.68e-06</td> <td> 1.000</td> <td>-5.77e+06</td> <td> 5.77e+06</td>\n",
       "</tr>\n",
       "<tr>\n",
       "  <th>Petal_Width</th>  <td>   11.7497</td> <td> 7.26e+06</td> <td> 1.62e-06</td> <td> 1.000</td> <td>-1.42e+07</td> <td> 1.42e+07</td>\n",
       "</tr>\n",
       "</table><br/><br/>Complete Separation: The results show that there iscomplete separation or perfect prediction.<br/>In this case the Maximum Likelihood Estimator does not exist and the parameters<br/>are not identified."
      ],
      "text/latex": [
       "\\begin{center}\n",
       "\\begin{tabular}{lclc}\n",
       "\\toprule\n",
       "\\textbf{Dep. Variable:}   &     Species      & \\textbf{  No. Observations:  } &       100    \\\\\n",
       "\\textbf{Model:}           &      Logit       & \\textbf{  Df Residuals:      } &        95    \\\\\n",
       "\\textbf{Method:}          &       MLE        & \\textbf{  Df Model:          } &         4    \\\\\n",
       "\\textbf{Date:}            & Sun, 03 Nov 2024 & \\textbf{  Pseudo R-squ.:     } &     1.000    \\\\\n",
       "\\textbf{Time:}            &     15:27:36     & \\textbf{  Log-Likelihood:    } & -9.6026e-09  \\\\\n",
       "\\textbf{converged:}       &       True       & \\textbf{  LL-Null:           } &    -69.315   \\\\\n",
       "\\textbf{Covariance Type:} &    nonrobust     & \\textbf{  LLR p-value:       } &  5.547e-29   \\\\\n",
       "\\bottomrule\n",
       "\\end{tabular}\n",
       "\\begin{tabular}{lcccccc}\n",
       "                       & \\textbf{coef} & \\textbf{std err} & \\textbf{z} & \\textbf{P$> |$z$|$} & \\textbf{[0.025} & \\textbf{0.975]}  \\\\\n",
       "\\midrule\n",
       "\\textbf{Intercept}     &      -1.9979  &     9.39e+06     & -2.13e-07  &         1.000        &    -1.84e+07    &     1.84e+07     \\\\\n",
       "\\textbf{Sepal\\_Length} &      -8.2904  &     3.78e+06     & -2.19e-06  &         1.000        &    -7.42e+06    &     7.42e+06     \\\\\n",
       "\\textbf{Sepal\\_Width}  &     -14.3042  &     7.15e+06     &    -2e-06  &         1.000        &     -1.4e+07    &      1.4e+07     \\\\\n",
       "\\textbf{Petal\\_Length} &      28.5257  &     2.95e+06     &  9.68e-06  &         1.000        &    -5.77e+06    &     5.77e+06     \\\\\n",
       "\\textbf{Petal\\_Width}  &      11.7497  &     7.26e+06     &  1.62e-06  &         1.000        &    -1.42e+07    &     1.42e+07     \\\\\n",
       "\\bottomrule\n",
       "\\end{tabular}\n",
       "%\\caption{Logit Regression Results}\n",
       "\\end{center}\n",
       "\n",
       "Complete Separation: The results show that there iscomplete separation or perfect prediction. \\newline\n",
       " In this case the Maximum Likelihood Estimator does not exist and the parameters \\newline\n",
       " are not identified."
      ],
      "text/plain": [
       "<class 'statsmodels.iolib.summary.Summary'>\n",
       "\"\"\"\n",
       "                           Logit Regression Results                           \n",
       "==============================================================================\n",
       "Dep. Variable:                Species   No. Observations:                  100\n",
       "Model:                          Logit   Df Residuals:                       95\n",
       "Method:                           MLE   Df Model:                            4\n",
       "Date:                Sun, 03 Nov 2024   Pseudo R-squ.:                   1.000\n",
       "Time:                        15:27:36   Log-Likelihood:            -9.6026e-09\n",
       "converged:                       True   LL-Null:                       -69.315\n",
       "Covariance Type:            nonrobust   LLR p-value:                 5.547e-29\n",
       "================================================================================\n",
       "                   coef    std err          z      P>|z|      [0.025      0.975]\n",
       "--------------------------------------------------------------------------------\n",
       "Intercept       -1.9979   9.39e+06  -2.13e-07      1.000   -1.84e+07    1.84e+07\n",
       "Sepal_Length    -8.2904   3.78e+06  -2.19e-06      1.000   -7.42e+06    7.42e+06\n",
       "Sepal_Width    -14.3042   7.15e+06     -2e-06      1.000    -1.4e+07     1.4e+07\n",
       "Petal_Length    28.5257   2.95e+06   9.68e-06      1.000   -5.77e+06    5.77e+06\n",
       "Petal_Width     11.7497   7.26e+06   1.62e-06      1.000   -1.42e+07    1.42e+07\n",
       "================================================================================\n",
       "\n",
       "Complete Separation: The results show that there iscomplete separation or perfect prediction.\n",
       "In this case the Maximum Likelihood Estimator does not exist and the parameters\n",
       "are not identified.\n",
       "\"\"\""
      ]
     },
     "execution_count": 103,
     "metadata": {},
     "output_type": "execute_result"
    }
   ],
   "source": [
    "# L1 Lasso regularization\n",
    "logit_v2 = smf.logit(formula=formula, data=data_df).fit_regularized()\n",
    "\n",
    "logit_v2.summary()"
   ]
  },
  {
   "cell_type": "markdown",
   "metadata": {},
   "source": [
    "#### Frequentist Logistic Regression Method #3 w/ L2 Regularization"
   ]
  },
  {
   "cell_type": "code",
   "execution_count": 104,
   "metadata": {},
   "outputs": [],
   "source": [
    "# L2 Ridge regularization\n",
    "x = data_df.iloc[:, :4]\n",
    "intercept_arr = np.ones(len(x))\n",
    "x.insert(0, \"Intercept\", pd.Series(intercept_arr))\n",
    "y = data_df[\"Species\"]\n",
    "\n",
    "\n",
    "def fit_model(x, y):\n",
    "    model = LogisticRegression(penalty=\"l2\", random_state=42)\n",
    "    model.fit(x, y)\n",
    "    return model.coef_[0]\n",
    "\n",
    "\n",
    "# Number of bootstrap iterations\n",
    "n_iterations = 100\n",
    "n_samples = x.shape[0]\n",
    "\n",
    "bootstrap_coefficients = []\n",
    "\n",
    "for i in range(n_iterations):\n",
    "    indices = resample(range(n_samples), replace=True, n_samples=n_samples)\n",
    "    sample_x = x.iloc[indices, :]\n",
    "    sample_y = y[indices]\n",
    "\n",
    "    # Fit model and append coefficients\n",
    "    coefficients = fit_model(sample_x, sample_y)\n",
    "    bootstrap_coefficients.append(coefficients)\n",
    "\n",
    "# Convert to numpy array\n",
    "bootstrap_coefficients = np.array(bootstrap_coefficients)\n",
    "\n",
    "# Calculate confidence intervals\n",
    "conf_int = np.percentile(bootstrap_coefficients, [2.5, 97.5], axis=0)\n",
    "\n",
    "# Fit model for point estimates\n",
    "model = LogisticRegression(penalty=\"l2\", fit_intercept=False, random_state=42)\n",
    "model.fit(x, y)\n",
    "point_estimates = model.coef_[0]\n",
    "\n",
    "summary = pd.DataFrame(\n",
    "    {\n",
    "        \"Feature\": x.columns,\n",
    "        \"Coefficient\": point_estimates,\n",
    "        \"Lower CI\": conf_int[0],\n",
    "        \"Upper CI\": conf_int[1],\n",
    "    }\n",
    ")"
   ]
  },
  {
   "cell_type": "code",
   "execution_count": 105,
   "metadata": {},
   "outputs": [
    {
     "data": {
      "text/html": [
       "<div>\n",
       "<style scoped>\n",
       "    .dataframe tbody tr th:only-of-type {\n",
       "        vertical-align: middle;\n",
       "    }\n",
       "\n",
       "    .dataframe tbody tr th {\n",
       "        vertical-align: top;\n",
       "    }\n",
       "\n",
       "    .dataframe thead th {\n",
       "        text-align: right;\n",
       "    }\n",
       "</style>\n",
       "<table border=\"1\" class=\"dataframe\">\n",
       "  <thead>\n",
       "    <tr style=\"text-align: right;\">\n",
       "      <th></th>\n",
       "      <th>Feature</th>\n",
       "      <th>Coefficient</th>\n",
       "      <th>Lower CI</th>\n",
       "      <th>Upper CI</th>\n",
       "    </tr>\n",
       "  </thead>\n",
       "  <tbody>\n",
       "    <tr>\n",
       "      <th>0</th>\n",
       "      <td>Intercept</td>\n",
       "      <td>-0.258227</td>\n",
       "      <td>-0.006872</td>\n",
       "      <td>0.005881</td>\n",
       "    </tr>\n",
       "    <tr>\n",
       "      <th>1</th>\n",
       "      <td>Sepal_Length</td>\n",
       "      <td>-0.402121</td>\n",
       "      <td>0.323307</td>\n",
       "      <td>0.640020</td>\n",
       "    </tr>\n",
       "    <tr>\n",
       "      <th>2</th>\n",
       "      <td>Sepal_Width</td>\n",
       "      <td>-1.464355</td>\n",
       "      <td>-1.052238</td>\n",
       "      <td>-0.660454</td>\n",
       "    </tr>\n",
       "    <tr>\n",
       "      <th>3</th>\n",
       "      <td>Petal_Length</td>\n",
       "      <td>2.237124</td>\n",
       "      <td>2.238369</td>\n",
       "      <td>2.367531</td>\n",
       "    </tr>\n",
       "    <tr>\n",
       "      <th>4</th>\n",
       "      <td>Petal_Width</td>\n",
       "      <td>1.000677</td>\n",
       "      <td>0.859751</td>\n",
       "      <td>1.057332</td>\n",
       "    </tr>\n",
       "  </tbody>\n",
       "</table>\n",
       "</div>"
      ],
      "text/plain": [
       "        Feature  Coefficient  Lower CI  Upper CI\n",
       "0     Intercept    -0.258227 -0.006872  0.005881\n",
       "1  Sepal_Length    -0.402121  0.323307  0.640020\n",
       "2   Sepal_Width    -1.464355 -1.052238 -0.660454\n",
       "3  Petal_Length     2.237124  2.238369  2.367531\n",
       "4   Petal_Width     1.000677  0.859751  1.057332"
      ]
     },
     "execution_count": 105,
     "metadata": {},
     "output_type": "execute_result"
    }
   ],
   "source": [
    "summary"
   ]
  },
  {
   "cell_type": "markdown",
   "metadata": {},
   "source": [
    "#### Part 2"
   ]
  },
  {
   "cell_type": "markdown",
   "metadata": {},
   "source": [
    "#### Bayesian Logistic Regression Method w/ Uninformative Prior"
   ]
  },
  {
   "cell_type": "code",
   "execution_count": 106,
   "metadata": {},
   "outputs": [],
   "source": [
    "data_df = pd.read_csv(\"iris-1.csv\")"
   ]
  },
  {
   "cell_type": "code",
   "execution_count": 107,
   "metadata": {},
   "outputs": [
    {
     "data": {
      "text/plain": [
       "{'setosa': 0, 'versicolor': 1}"
      ]
     },
     "execution_count": 107,
     "metadata": {},
     "output_type": "execute_result"
    }
   ],
   "source": [
    "# Convert Species into 0 and 1\n",
    "le = LabelEncoder()\n",
    "data_df[\"Species\"] = le.fit_transform(data_df[\"Species\"])\n",
    "le_name_mapping = dict(zip(le.classes_, le.transform(le.classes_)))\n",
    "le_name_mapping"
   ]
  },
  {
   "cell_type": "code",
   "execution_count": 108,
   "metadata": {},
   "outputs": [
    {
     "data": {
      "text/plain": [
       "0    0\n",
       "1    0\n",
       "2    0\n",
       "3    0\n",
       "4    0\n",
       "Name: Species, dtype: int32"
      ]
     },
     "execution_count": 108,
     "metadata": {},
     "output_type": "execute_result"
    }
   ],
   "source": [
    "x = data_df.iloc[:, 0:4]\n",
    "y = data_df[\"Species\"]\n",
    "\n",
    "y.head()"
   ]
  },
  {
   "cell_type": "code",
   "execution_count": 109,
   "metadata": {},
   "outputs": [
    {
     "name": "stderr",
     "output_type": "stream",
     "text": [
      "Auto-assigning NUTS sampler...\n",
      "Initializing NUTS using jitter+adapt_diag...\n",
      "Multiprocess sampling (4 chains in 4 jobs)\n",
      "NUTS: [alpha, betas]\n"
     ]
    },
    {
     "data": {
      "application/vnd.jupyter.widget-view+json": {
       "model_id": "2cd48ffde8504440b7b59433ba3494bf",
       "version_major": 2,
       "version_minor": 0
      },
      "text/plain": [
       "Output()"
      ]
     },
     "metadata": {},
     "output_type": "display_data"
    },
    {
     "data": {
      "text/html": [
       "<pre style=\"white-space:pre;overflow-x:auto;line-height:normal;font-family:Menlo,'DejaVu Sans Mono',consolas,'Courier New',monospace\"></pre>\n"
      ],
      "text/plain": []
     },
     "metadata": {},
     "output_type": "display_data"
    },
    {
     "name": "stderr",
     "output_type": "stream",
     "text": [
      "Sampling 4 chains for 1_000 tune and 5_000 draw iterations (4_000 + 20_000 draws total) took 77 seconds.\n",
      "There were 4976 divergences after tuning. Increase `target_accept` or reparameterize.\n"
     ]
    }
   ],
   "source": [
    "with pm.Model() as logistic:\n",
    "    x_data = pm.Data(\"x_data\", x)\n",
    "    y_data = pm.Data(\"y_data\", y)\n",
    "\n",
    "    alpha = pm.Normal(\"alpha\", mu=0, sigma=np.sqrt(1000))\n",
    "    betas = pm.Normal(\"betas\", mu=0, sigma=np.sqrt(1000), shape=x.shape[1])\n",
    "\n",
    "    p = alpha + pm.math.dot(x_data, betas)\n",
    "\n",
    "    pm.Bernoulli(\"y\", logit_p=p, observed=y_data)\n",
    "\n",
    "    trace = pm.sample(5000)"
   ]
  },
  {
   "cell_type": "code",
   "execution_count": 110,
   "metadata": {},
   "outputs": [
    {
     "data": {
      "text/html": [
       "<div>\n",
       "<style scoped>\n",
       "    .dataframe tbody tr th:only-of-type {\n",
       "        vertical-align: middle;\n",
       "    }\n",
       "\n",
       "    .dataframe tbody tr th {\n",
       "        vertical-align: top;\n",
       "    }\n",
       "\n",
       "    .dataframe thead th {\n",
       "        text-align: right;\n",
       "    }\n",
       "</style>\n",
       "<table border=\"1\" class=\"dataframe\">\n",
       "  <thead>\n",
       "    <tr style=\"text-align: right;\">\n",
       "      <th></th>\n",
       "      <th>mean</th>\n",
       "      <th>sd</th>\n",
       "      <th>hdi_3%</th>\n",
       "      <th>hdi_97%</th>\n",
       "      <th>mcse_mean</th>\n",
       "      <th>mcse_sd</th>\n",
       "      <th>ess_bulk</th>\n",
       "      <th>ess_tail</th>\n",
       "      <th>r_hat</th>\n",
       "    </tr>\n",
       "  </thead>\n",
       "  <tbody>\n",
       "    <tr>\n",
       "      <th>alpha</th>\n",
       "      <td>-5.570</td>\n",
       "      <td>29.798</td>\n",
       "      <td>-60.818</td>\n",
       "      <td>51.004</td>\n",
       "      <td>0.548</td>\n",
       "      <td>0.387</td>\n",
       "      <td>2964.0</td>\n",
       "      <td>4412.0</td>\n",
       "      <td>1.0</td>\n",
       "    </tr>\n",
       "    <tr>\n",
       "      <th>betas[0]</th>\n",
       "      <td>-6.570</td>\n",
       "      <td>15.832</td>\n",
       "      <td>-38.030</td>\n",
       "      <td>21.366</td>\n",
       "      <td>0.362</td>\n",
       "      <td>0.256</td>\n",
       "      <td>1908.0</td>\n",
       "      <td>2802.0</td>\n",
       "      <td>1.0</td>\n",
       "    </tr>\n",
       "    <tr>\n",
       "      <th>betas[1]</th>\n",
       "      <td>-21.991</td>\n",
       "      <td>21.062</td>\n",
       "      <td>-63.394</td>\n",
       "      <td>15.485</td>\n",
       "      <td>0.446</td>\n",
       "      <td>0.315</td>\n",
       "      <td>2246.0</td>\n",
       "      <td>3452.0</td>\n",
       "      <td>1.0</td>\n",
       "    </tr>\n",
       "    <tr>\n",
       "      <th>betas[2]</th>\n",
       "      <td>35.810</td>\n",
       "      <td>20.220</td>\n",
       "      <td>-0.246</td>\n",
       "      <td>73.895</td>\n",
       "      <td>0.436</td>\n",
       "      <td>0.308</td>\n",
       "      <td>2109.0</td>\n",
       "      <td>3116.0</td>\n",
       "      <td>1.0</td>\n",
       "    </tr>\n",
       "    <tr>\n",
       "      <th>betas[3]</th>\n",
       "      <td>18.091</td>\n",
       "      <td>27.191</td>\n",
       "      <td>-32.647</td>\n",
       "      <td>69.528</td>\n",
       "      <td>0.479</td>\n",
       "      <td>0.339</td>\n",
       "      <td>3222.0</td>\n",
       "      <td>4123.0</td>\n",
       "      <td>1.0</td>\n",
       "    </tr>\n",
       "  </tbody>\n",
       "</table>\n",
       "</div>"
      ],
      "text/plain": [
       "            mean      sd  hdi_3%  hdi_97%  mcse_mean  mcse_sd  ess_bulk  \\\n",
       "alpha     -5.570  29.798 -60.818   51.004      0.548    0.387    2964.0   \n",
       "betas[0]  -6.570  15.832 -38.030   21.366      0.362    0.256    1908.0   \n",
       "betas[1] -21.991  21.062 -63.394   15.485      0.446    0.315    2246.0   \n",
       "betas[2]  35.810  20.220  -0.246   73.895      0.436    0.308    2109.0   \n",
       "betas[3]  18.091  27.191 -32.647   69.528      0.479    0.339    3222.0   \n",
       "\n",
       "          ess_tail  r_hat  \n",
       "alpha       4412.0    1.0  \n",
       "betas[0]    2802.0    1.0  \n",
       "betas[1]    3452.0    1.0  \n",
       "betas[2]    3116.0    1.0  \n",
       "betas[3]    4123.0    1.0  "
      ]
     },
     "execution_count": 110,
     "metadata": {},
     "output_type": "execute_result"
    }
   ],
   "source": [
    "az.summary(trace)"
   ]
  },
  {
   "cell_type": "markdown",
   "metadata": {},
   "source": [
    "#### Part 3"
   ]
  },
  {
   "cell_type": "markdown",
   "metadata": {},
   "source": [
    "#### Bayesian Logistic Regression Method w/ Informative Prior"
   ]
  },
  {
   "cell_type": "code",
   "execution_count": 111,
   "metadata": {},
   "outputs": [
    {
     "name": "stderr",
     "output_type": "stream",
     "text": [
      "Auto-assigning NUTS sampler...\n",
      "Initializing NUTS using jitter+adapt_diag...\n",
      "Multiprocess sampling (4 chains in 4 jobs)\n",
      "NUTS: [alpha, betas]\n"
     ]
    },
    {
     "data": {
      "application/vnd.jupyter.widget-view+json": {
       "model_id": "d255bbec885e418a9b1f3f02cfc95ddd",
       "version_major": 2,
       "version_minor": 0
      },
      "text/plain": [
       "Output()"
      ]
     },
     "metadata": {},
     "output_type": "display_data"
    },
    {
     "data": {
      "text/html": [
       "<pre style=\"white-space:pre;overflow-x:auto;line-height:normal;font-family:Menlo,'DejaVu Sans Mono',consolas,'Courier New',monospace\"></pre>\n"
      ],
      "text/plain": []
     },
     "metadata": {},
     "output_type": "display_data"
    },
    {
     "name": "stderr",
     "output_type": "stream",
     "text": [
      "Sampling 4 chains for 1_000 tune and 5_000 draw iterations (4_000 + 20_000 draws total) took 38 seconds.\n",
      "There were 3 divergences after tuning. Increase `target_accept` or reparameterize.\n"
     ]
    }
   ],
   "source": [
    "with pm.Model() as logistic:\n",
    "    x_data = pm.Data(\"x_data\", x)\n",
    "    y_data = pm.Data(\"y_data\", y)\n",
    "\n",
    "    alpha = pm.Normal(\"alpha\", mu=0, sigma=1)\n",
    "    betas = pm.Normal(\"betas\", mu=0, sigma=1, shape=x.shape[1])\n",
    "\n",
    "    p = alpha + pm.math.dot(x_data, betas)\n",
    "\n",
    "    pm.Bernoulli(\"y\", logit_p=p, observed=y_data)\n",
    "\n",
    "    trace = pm.sample(5000)"
   ]
  },
  {
   "cell_type": "code",
   "execution_count": 112,
   "metadata": {},
   "outputs": [
    {
     "data": {
      "text/html": [
       "<div>\n",
       "<style scoped>\n",
       "    .dataframe tbody tr th:only-of-type {\n",
       "        vertical-align: middle;\n",
       "    }\n",
       "\n",
       "    .dataframe tbody tr th {\n",
       "        vertical-align: top;\n",
       "    }\n",
       "\n",
       "    .dataframe thead th {\n",
       "        text-align: right;\n",
       "    }\n",
       "</style>\n",
       "<table border=\"1\" class=\"dataframe\">\n",
       "  <thead>\n",
       "    <tr style=\"text-align: right;\">\n",
       "      <th></th>\n",
       "      <th>mean</th>\n",
       "      <th>sd</th>\n",
       "      <th>hdi_3%</th>\n",
       "      <th>hdi_97%</th>\n",
       "      <th>mcse_mean</th>\n",
       "      <th>mcse_sd</th>\n",
       "      <th>ess_bulk</th>\n",
       "      <th>ess_tail</th>\n",
       "      <th>r_hat</th>\n",
       "    </tr>\n",
       "  </thead>\n",
       "  <tbody>\n",
       "    <tr>\n",
       "      <th>alpha</th>\n",
       "      <td>-0.294</td>\n",
       "      <td>0.974</td>\n",
       "      <td>-2.159</td>\n",
       "      <td>1.500</td>\n",
       "      <td>0.009</td>\n",
       "      <td>0.007</td>\n",
       "      <td>11877.0</td>\n",
       "      <td>11262.0</td>\n",
       "      <td>1.0</td>\n",
       "    </tr>\n",
       "    <tr>\n",
       "      <th>betas[0]</th>\n",
       "      <td>-0.422</td>\n",
       "      <td>0.583</td>\n",
       "      <td>-1.532</td>\n",
       "      <td>0.675</td>\n",
       "      <td>0.007</td>\n",
       "      <td>0.005</td>\n",
       "      <td>7736.0</td>\n",
       "      <td>8530.0</td>\n",
       "      <td>1.0</td>\n",
       "    </tr>\n",
       "    <tr>\n",
       "      <th>betas[1]</th>\n",
       "      <td>-1.590</td>\n",
       "      <td>0.738</td>\n",
       "      <td>-2.975</td>\n",
       "      <td>-0.188</td>\n",
       "      <td>0.008</td>\n",
       "      <td>0.006</td>\n",
       "      <td>8834.0</td>\n",
       "      <td>10540.0</td>\n",
       "      <td>1.0</td>\n",
       "    </tr>\n",
       "    <tr>\n",
       "      <th>betas[2]</th>\n",
       "      <td>2.428</td>\n",
       "      <td>0.616</td>\n",
       "      <td>1.273</td>\n",
       "      <td>3.573</td>\n",
       "      <td>0.007</td>\n",
       "      <td>0.005</td>\n",
       "      <td>8744.0</td>\n",
       "      <td>10218.0</td>\n",
       "      <td>1.0</td>\n",
       "    </tr>\n",
       "    <tr>\n",
       "      <th>betas[3]</th>\n",
       "      <td>1.080</td>\n",
       "      <td>0.926</td>\n",
       "      <td>-0.656</td>\n",
       "      <td>2.876</td>\n",
       "      <td>0.009</td>\n",
       "      <td>0.006</td>\n",
       "      <td>11164.0</td>\n",
       "      <td>10853.0</td>\n",
       "      <td>1.0</td>\n",
       "    </tr>\n",
       "  </tbody>\n",
       "</table>\n",
       "</div>"
      ],
      "text/plain": [
       "           mean     sd  hdi_3%  hdi_97%  mcse_mean  mcse_sd  ess_bulk  \\\n",
       "alpha    -0.294  0.974  -2.159    1.500      0.009    0.007   11877.0   \n",
       "betas[0] -0.422  0.583  -1.532    0.675      0.007    0.005    7736.0   \n",
       "betas[1] -1.590  0.738  -2.975   -0.188      0.008    0.006    8834.0   \n",
       "betas[2]  2.428  0.616   1.273    3.573      0.007    0.005    8744.0   \n",
       "betas[3]  1.080  0.926  -0.656    2.876      0.009    0.006   11164.0   \n",
       "\n",
       "          ess_tail  r_hat  \n",
       "alpha      11262.0    1.0  \n",
       "betas[0]    8530.0    1.0  \n",
       "betas[1]   10540.0    1.0  \n",
       "betas[2]   10218.0    1.0  \n",
       "betas[3]   10853.0    1.0  "
      ]
     },
     "execution_count": 112,
     "metadata": {},
     "output_type": "execute_result"
    }
   ],
   "source": [
    "az.summary(trace)"
   ]
  }
 ],
 "metadata": {
  "kernelspec": {
   "display_name": "Python 3",
   "language": "python",
   "name": "python3"
  },
  "language_info": {
   "codemirror_mode": {
    "name": "ipython",
    "version": 3
   },
   "file_extension": ".py",
   "mimetype": "text/x-python",
   "name": "python",
   "nbconvert_exporter": "python",
   "pygments_lexer": "ipython3",
   "version": "3.12.7"
  }
 },
 "nbformat": 4,
 "nbformat_minor": 2
}
